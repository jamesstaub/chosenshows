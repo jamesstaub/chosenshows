{
 "cells": [
  {
   "cell_type": "code",
   "execution_count": 1,
   "metadata": {
    "collapsed": false
   },
   "outputs": [],
   "source": [
    "from hassle.request import EventResponse\n",
    "from hassle.parsers import ParseSms"
   ]
  },
  {
   "cell_type": "code",
   "execution_count": 5,
   "metadata": {
    "collapsed": false
   },
   "outputs": [
    {
     "name": "stdout",
     "output_type": "stream",
     "text": [
      "\n",
      "            04/20 @ After The Gig Fest 2018 on Flywheel Arts Collective\n",
      "         | \n",
      "            04/22 @ Interdisciplinary Improvisation Class on Arts at the Armory\n",
      "         | \n",
      "            04/22 @ Music as a Second Language (MSL) on Dorchester Art Project\n",
      "         | \n",
      "            04/22 @ FÓRN, Elizabeth Colour Wheel, Rozamov, Vaulted on Great Scott\n",
      "         | \n",
      "            04/22 @ Bush Tetras, GOLD DIME, La Tunda on Cafe Nine\n",
      "         | \n",
      "            04/22 @ Leopard Print Taser, Rick Rude, Have A Good Season, Banana on The Automatic\n",
      "         | \n",
      "            04/22 @ Young Familiar, Remnose, The Love Strangers,  Littlefoot(solo) on Lilypad\n",
      "         | \n",
      "            04/23 @ Saccharine, Lychi, Guiding Wave, Chemical Wire on O&#8217;Brien&#8217;s Pub\n",
      "         | \n",
      "            04/24 @ Machine girl (tour) ~ evicshen ~ ____highlightreel ~ cyberbully on Makeout Point\n",
      "         | \n",
      "            04/25 @ Wei Zhongle, Lina Tullgren, Jonathan Downs on The Apohadion Theater\n",
      "         | \n",
      "            04/26 @ Wet Tuna, Footings, Tongue Oven on The Root Cellar\n",
      "        \n"
     ]
    }
   ],
   "source": [
    "response = EventResponse('music', '+16666666666')\n",
    "\n",
    "print(response.response)\n",
    "\n",
    "# res = parse_and_respond('music')\n",
    "# print(res)\n"
   ]
  },
  {
   "cell_type": "code",
   "execution_count": 3,
   "metadata": {
    "collapsed": false
   },
   "outputs": [],
   "source": [
    "# p = ParseSms('what is up tonight anythin good')"
   ]
  },
  {
   "cell_type": "code",
   "execution_count": null,
   "metadata": {
    "collapsed": false
   },
   "outputs": [],
   "source": []
  },
  {
   "cell_type": "code",
   "execution_count": 4,
   "metadata": {
    "collapsed": false
   },
   "outputs": [
    {
     "data": {
      "text/plain": [
       "'start_date=2018-04-23&categories=hassle-shows'"
      ]
     },
     "execution_count": 4,
     "metadata": {},
     "output_type": "execute_result"
    }
   ],
   "source": [
    "import urllib\n",
    "urllib.parse.urlencode({'start_date': '2018-04-23', 'categories': 'hassle-shows'})"
   ]
  },
  {
   "cell_type": "code",
   "execution_count": null,
   "metadata": {
    "collapsed": false
   },
   "outputs": [],
   "source": []
  },
  {
   "cell_type": "code",
   "execution_count": null,
   "metadata": {
    "collapsed": true
   },
   "outputs": [],
   "source": []
  }
 ],
 "metadata": {
  "kernelspec": {
   "display_name": "Python 3",
   "language": "python",
   "name": "python3"
  },
  "language_info": {
   "codemirror_mode": {
    "name": "ipython",
    "version": 3
   },
   "file_extension": ".py",
   "mimetype": "text/x-python",
   "name": "python",
   "nbconvert_exporter": "python",
   "pygments_lexer": "ipython3",
   "version": "3.5.1"
  }
 },
 "nbformat": 4,
 "nbformat_minor": 0
}
